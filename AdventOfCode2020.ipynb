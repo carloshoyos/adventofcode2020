{
 "cells": [
  {
   "cell_type": "markdown",
   "metadata": {},
   "source": [
    "A notebook to practice Advent of Code 2020: https://adventofcode.com/2020/\n",
    "\n",
    "Tradeoffs: \n",
    "- No validation of inputs, assuming all lines are correct (not something to be done in real life)\n",
    "- Tried to optimize execution, minimize number of lines\n",
    "- Reduce use of import "
   ]
  },
  {
   "cell_type": "code",
   "execution_count": 1,
   "metadata": {},
   "outputs": [
    {
     "name": "stdout",
     "output_type": "stream",
     "text": [
      "first part answer:  1020084\n",
      "second part answer:  295086480\n"
     ]
    }
   ],
   "source": [
    "#1 Day 1 https://adventofcode.com/2020/day/1 \n",
    "\n",
    "report_numbers = set(int(line.strip()) for line in open('day1.txt'))\n",
    "\n",
    "#---- hinsight, using a set is not a great idea. Potential errors with duplicate entries.  But oh well, it worked. \n",
    "\n",
    "#===  part 1, find 2 numbers that add up to 2020\n",
    "answer = 0 \n",
    "for num in report_numbers: \n",
    "    if 2020 - num in report_numbers: \n",
    "        answer = num * (2020 - num) \n",
    "        break\n",
    "        \n",
    "print(\"first part answer: \", answer)\n",
    "\n",
    "#===  part 2, find 3 numbers that add up to 2020\n",
    "answer = 0 \n",
    "for x in report_numbers: \n",
    "    for y in report_numbers: \n",
    "        for z in report_numbers: \n",
    "            if x==y or x==z or y==z :\n",
    "                continue\n",
    "            if x + y + z == 2020 :\n",
    "                answer = x * y * z\n",
    "                \n",
    "print(\"second part answer: \", answer)"
   ]
  },
  {
   "cell_type": "code",
   "execution_count": 7,
   "metadata": {},
   "outputs": [
    {
     "name": "stdout",
     "output_type": "stream",
     "text": [
      "part one: 572   part two: 306\n"
     ]
    }
   ],
   "source": [
    "#2 Day 2 https://adventofcode.com/2020/day/2\n",
    "\n",
    "import re\n",
    "\n",
    "count1 = 0;\n",
    "count2 = 0;\n",
    "for line in open('day2.txt'):\n",
    "    \n",
    "    #split string into components, e.g. ['15', '16', 'p', 'ppppppppppplppppp']\n",
    "    parts = [minimum,maximum,letter,passwd] = re.split('-|: |\\s',line.strip())\n",
    "\n",
    "    minimum = int(minimum)\n",
    "    maximum = int(maximum)\n",
    "    # part 1, is the number of occurrences of the letter between min and max? \n",
    "    if minimum <= str.count(passwd,letter) <= maximum : \n",
    "        count1 = count1 + 1;\n",
    "        \n",
    "    # part 2, positions min / max should have ONLY one ocurrence of the letter \n",
    "    if [passwd[minimum-1], passwd[maximum-1]].count(letter) == 1:\n",
    "        count2 = count2 + 1;\n",
    "\n",
    "print('part one:',count1, '  part two:',count2)\n",
    "\n"
   ]
  },
  {
   "cell_type": "code",
   "execution_count": null,
   "metadata": {},
   "outputs": [],
   "source": []
  }
 ],
 "metadata": {
  "kernelspec": {
   "display_name": "Python 3",
   "language": "python",
   "name": "python3"
  },
  "language_info": {
   "codemirror_mode": {
    "name": "ipython",
    "version": 3
   },
   "file_extension": ".py",
   "mimetype": "text/x-python",
   "name": "python",
   "nbconvert_exporter": "python",
   "pygments_lexer": "ipython3",
   "version": "3.9.0"
  }
 },
 "nbformat": 4,
 "nbformat_minor": 4
}
